{
 "cells": [
  {
   "cell_type": "markdown",
   "id": "f96891ae",
   "metadata": {},
   "source": [
    "# First Time User\n",
    "Install the pytorch and pix2tex by running the following two commands first. \n",
    "- ``` pip install torch torchvision ```\n",
    "- ``` pip install \"pix2tex[gui]\" ```"
   ]
  },
  {
   "cell_type": "markdown",
   "id": "b3fe473c",
   "metadata": {},
   "source": [
    "Put all the equation pictures in the same folder as this python file and set the folder path as ```folder_path = './'```.\n",
    "\n",
    "Otherwise, set the folder path to the actual path in your computer where pictures of the equations are located.\n",
    "\n",
    "For better results, keep equations seperate by having only one equation in one picture as shown below.\n",
    "\n"
   ]
  },
  {
   "cell_type": "markdown",
   "id": "f434739b",
   "metadata": {},
   "source": [
    "#### Importing packages"
   ]
  },
  {
   "cell_type": "code",
   "execution_count": 36,
   "id": "f181df90",
   "metadata": {},
   "outputs": [],
   "source": [
    "from PIL import Image\n",
    "from pix2tex.cli import LatexOCR\n",
    "import os"
   ]
  },
  {
   "cell_type": "code",
   "execution_count": 99,
   "id": "f3a36864",
   "metadata": {
    "scrolled": true
   },
   "outputs": [],
   "source": [
    "# Create lists to store old and new names\n",
    "old_names = []\n",
    "new_names = []\n",
    "\n",
    "def rename_png_files(folder_path):\n",
    "    # Get the list of files in the folder\n",
    "    files = os.listdir(folder_path)\n",
    "\n",
    "    # Filter out only the PNG files\n",
    "    png_files = [file for file in files if file.lower().endswith('.png')]\n",
    "\n",
    "    # Sort the PNG files by creation time\n",
    "    png_files.sort(key=lambda x: os.path.getctime(os.path.join(folder_path, x)))\n",
    "\n",
    "    # Rename the PNG files sequentially\n",
    "    for index, png_file in enumerate(png_files, start=1):\n",
    "        old_path = os.path.join(folder_path, png_file)\n",
    "\n",
    "        # Append the old name to the list\n",
    "        old_names.append(png_file)\n",
    "\n",
    "        # Check if the file already has the desired format\n",
    "        if not png_file.lower().startswith(f'img{index}'):\n",
    "            new_name = f'img{index}.png'\n",
    "            new_path = os.path.join(folder_path, new_name)\n",
    "\n",
    "            # Rename the file\n",
    "            os.rename(old_path, new_path)\n",
    "            new_names.append(new_name)\n",
    "            print(f'Renamed: {png_file} -> {new_name}')\n",
    "        else:\n",
    "            new_names.append(png_file)\n",
    "            print(f'Skipped: {png_file} is already in the desired format.')\n",
    "    for i in range(len(new_names)):\n",
    "        img = Image.open(new_names[i])\n",
    "        model = LatexOCR()\n",
    "        print(old_names[i],' = ' , new_names[i], '\\n\\n',model(img),'\\n')"
   ]
  },
  {
   "cell_type": "code",
   "execution_count": 100,
   "id": "ac74289f",
   "metadata": {
    "scrolled": true
   },
   "outputs": [
    {
     "name": "stdout",
     "output_type": "stream",
     "text": [
      "Skipped: img1.png is already in the desired format.\n",
      "Skipped: img2.png is already in the desired format.\n",
      "Skipped: img3.png is already in the desired format.\n",
      "Skipped: img4.png is already in the desired format.\n",
      "img1.png  =  img1.png \n",
      "\n",
      " \\hat{\\bf A}({\\bf x},t)=\\int d^{3}k\\,\\hat{\\bf A}({\\bf k},t)\\,e^{i{\\bf k}\\cdot{\\bf x}}\\,. \n",
      "\n",
      "img2.png  =  img2.png \n",
      "\n",
      " \\frac{\\partial\\hat{\\pi}_{j}({\\bf x},t)}{\\partial t}=\\frac{1}{\\mu_{0}}\\,\\Delta\\hat{A}_{j}({\\bf x},t)\\,. \n",
      "\n",
      "img3.png  =  img3.png \n",
      "\n",
      " i\\hbar\\,\\frac{\\partial\\hat{\\pi}_{j}({\\bf x},t)}{\\partial t}=\\frac{i\\hbar}{\\mu_{0}}\\int d^{3}x^{\\prime}\\,\\delta_{j l}^{T}({\\bf x}-{\\bf x}^{\\prime})\\,\\Delta^{\\prime}\\hat{A}_{l}({\\bf x}^{\\prime},t)\\,, \n",
      "\n",
      "img4.png  =  img4.png \n",
      "\n",
      " i\\hbar\\,{\\frac{\\partial\\hat{\\pi}_{j}(\\mathbf{x},t)}{\\partial t}}={\\frac{i\\hbar}{\\mu_{0}}}\\,\\left\\{\\partial_{k}\\partial_{k}\\hat{A}_{j}(\\mathbf{x},t)-{\\frac{1}{4\\pi}}\\,\\int d^{3}x^{\\prime}\\,\\left(\\partial_{j}^{\\prime}\\,{\\frac{1}{|\\mathbf{x}-\\mathbf{x}^{\\prime}|}}\\right)\\,\\Delta^{\\prime}\\partial_{l}^{\\prime}\\hat{A}_{l}(\\mathbf{x}^{\\prime},t)\\right\\}\\,. \n",
      "\n"
     ]
    }
   ],
   "source": [
    "# If screenshots and this jupyter notebook file are in the same folder then folder path should be kept './'\n",
    "# Replace 'path/to/your/folder' with the actual path to your folder containing PNG files\n",
    "folder_path = './'\n",
    "rename_png_files(folder_path)"
   ]
  },
  {
   "cell_type": "code",
   "execution_count": null,
   "id": "3c99a64f",
   "metadata": {},
   "outputs": [],
   "source": []
  },
  {
   "cell_type": "code",
   "execution_count": null,
   "id": "c3ca0468",
   "metadata": {},
   "outputs": [],
   "source": []
  },
  {
   "cell_type": "code",
   "execution_count": null,
   "id": "7729586c",
   "metadata": {},
   "outputs": [],
   "source": []
  },
  {
   "cell_type": "code",
   "execution_count": null,
   "id": "7b5f0a7a",
   "metadata": {},
   "outputs": [],
   "source": []
  }
 ],
 "metadata": {
  "kernelspec": {
   "display_name": "Python 3 (ipykernel)",
   "language": "python",
   "name": "python3"
  },
  "language_info": {
   "codemirror_mode": {
    "name": "ipython",
    "version": 3
   },
   "file_extension": ".py",
   "mimetype": "text/x-python",
   "name": "python",
   "nbconvert_exporter": "python",
   "pygments_lexer": "ipython3",
   "version": "3.11.4"
  }
 },
 "nbformat": 4,
 "nbformat_minor": 5
}
