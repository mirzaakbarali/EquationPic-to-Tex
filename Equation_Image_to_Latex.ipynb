{
 "cells": [
  {
   "cell_type": "markdown",
   "id": "f96891ae",
   "metadata": {},
   "source": [
    "# First Time User\n",
    "Install the pytorch and pix2tex by running the following two commands first. \n",
    "- ``` pip install torch torchvision ```\n",
    "- ``` pip install \"pix2tex[gui]\" ```"
   ]
  },
  {
   "cell_type": "markdown",
   "id": "b3fe473c",
   "metadata": {},
   "source": [
    "Put all the equation pictures in the same folder as this python file. Name them successively img1.png , img2.ong and son on. Change the ```num_of_names``` by the number of pictures you have. Run all the cells below."
   ]
  },
  {
   "cell_type": "code",
   "execution_count": null,
   "id": "3e45daed",
   "metadata": {},
   "outputs": [],
   "source": [
    "num_of_names = 1  # Change this value to the number of pictures you\n",
    "name_list = []\n",
    "\n",
    "for i in range(1, num_of_names + 1):\n",
    "    name_list.append(f\"img{i}.png\")\n",
    "print(name_list)"
   ]
  },
  {
   "cell_type": "code",
   "execution_count": null,
   "id": "dab2b5ac",
   "metadata": {},
   "outputs": [],
   "source": [
    "# importing required packages\n",
    "from PIL import Image\n",
    "from pix2tex.cli import LatexOCR"
   ]
  },
  {
   "cell_type": "code",
   "execution_count": null,
   "id": "ac74289f",
   "metadata": {
    "scrolled": true
   },
   "outputs": [],
   "source": [
    "for i in range(0, num_of_names):\n",
    "    img = Image.open(name_list[i])\n",
    "    model = LatexOCR()\n",
    "    print(model(img),'\\n')"
   ]
  },
  {
   "cell_type": "code",
   "execution_count": null,
   "id": "3c99a64f",
   "metadata": {},
   "outputs": [],
   "source": []
  }
 ],
 "metadata": {
  "kernelspec": {
   "display_name": "Python 3 (ipykernel)",
   "language": "python",
   "name": "python3"
  },
  "language_info": {
   "codemirror_mode": {
    "name": "ipython",
    "version": 3
   },
   "file_extension": ".py",
   "mimetype": "text/x-python",
   "name": "python",
   "nbconvert_exporter": "python",
   "pygments_lexer": "ipython3",
   "version": "3.11.4"
  }
 },
 "nbformat": 4,
 "nbformat_minor": 5
}
