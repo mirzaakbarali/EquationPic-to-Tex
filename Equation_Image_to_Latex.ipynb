{
 "cells": [
  {
   "cell_type": "markdown",
   "id": "f96891ae",
   "metadata": {},
   "source": [
    "# First Time User\n",
    "Install the pytorch and pix2tex by running the following two commands first. \n",
    "- ``` pip install torch torchvision ```\n",
    "- ``` pip install \"pix2tex[gui]\" ```"
   ]
  },
  {
   "cell_type": "markdown",
   "id": "b3fe473c",
   "metadata": {},
   "source": [
    "Put all the equation pictures in the same folder as this python file and set the folder path as ```folder_path = './'```.\n",
    "\n",
    "Otherwise, set the folder path to the actual path in your computer where pictures of the equations are located.\n",
    "\n",
    "For better results, keep equations seperate by having only one equation (without the border) in one picture as shown below.\n",
    "\n",
    "==========================================================================\n",
    "\n",
    "<img src=\"https://raw.githubusercontent.com/mirzaakbarali/EquationPic-to-Tex/main/example_eqs/img1.png\" alt=\"your-image-description\" style=\"border: 1px solid  gray;\">\n",
    "\n",
    "==========================================================================\n",
    "\n",
    "<img src=\"https://raw.githubusercontent.com/mirzaakbarali/EquationPic-to-Tex/main/example_eqs/img4.png\" alt=\"your-image-description\" style=\"border: 1px solid  gray;\">\n",
    "\n",
    "==========================================================================\n",
    "\n",
    "Pictures are renamed to im1.png , img2.png .... based on the time stamp of creation. If you are taking the screenshots, then latest screenshot renames to img1.png."
   ]
  },
  {
   "cell_type": "markdown",
   "id": "353e9da6",
   "metadata": {},
   "source": [
    "#### Importing packages"
   ]
  },
  {
   "cell_type": "code",
   "execution_count": 101,
   "id": "55c46bb5",
   "metadata": {},
   "outputs": [],
   "source": [
    "from PIL import Image\n",
    "from pix2tex.cli import LatexOCR\n",
    "import os"
   ]
  },
  {
   "cell_type": "code",
   "execution_count": 120,
   "id": "cea65470",
   "metadata": {
    "scrolled": true
   },
   "outputs": [],
   "source": [
    "# Create lists to store old and new names\n",
    "old_names = []\n",
    "new_names = []\n",
    "\n",
    "def rename_png_files(folder_path):\n",
    "    # Get the list of files in the folder\n",
    "    files = os.listdir(folder_path)\n",
    "\n",
    "    # Filter out only the PNG files\n",
    "    png_files = [file for file in files if file.lower().endswith('.png')]\n",
    "\n",
    "    # Sort the PNG files by creation time\n",
    "    png_files.sort(key=lambda x: os.path.getctime(os.path.join(folder_path, x)))\n",
    "\n",
    "    # Rename the PNG files sequentially\n",
    "    for index, png_file in enumerate(png_files, start=1):\n",
    "        old_path = os.path.join(folder_path, png_file)\n",
    "\n",
    "        # Append the old name to the list\n",
    "        old_names.append(png_file)\n",
    "\n",
    "        # Check if the file already has the desired format\n",
    "        if not png_file.lower().startswith(f'img{index}'):\n",
    "            new_name = f'img{index}.png'\n",
    "            new_path = os.path.join(folder_path, new_name)\n",
    "\n",
    "            # Rename the file\n",
    "            os.rename(old_path, new_path)\n",
    "            new_names.append(new_name)\n",
    "            print(f'Renamed: {png_file} -> {new_name}')\n",
    "        else:\n",
    "            new_names.append(png_file)\n",
    "            print(f'Skipped: {png_file} is already in the desired format.')\n",
    "    for i in range(len(new_names)):\n",
    "        img = Image.open(new_names[i])\n",
    "        model = LatexOCR()\n",
    "        print('\\n', old_names[i],' = ' , new_names[i], '\\n\\n',model(img))"
   ]
  },
  {
   "cell_type": "code",
   "execution_count": 121,
   "id": "ac74289f",
   "metadata": {
    "scrolled": true
   },
   "outputs": [
    {
     "name": "stdout",
     "output_type": "stream",
     "text": [
      "Renamed: Screenshot 2024-01-29 at 15.26.42.png -> img1.png\n",
      "Renamed: Screenshot 2024-01-29 at 14.56.57.png -> img2.png\n",
      "Renamed: Screenshot 2024-01-29 at 14.46.33.png -> img3.png\n",
      "Renamed: Screenshot 2024-01-29 at 14.46.28.png -> img4.png\n",
      "\n",
      " Screenshot 2024-01-29 at 15.26.42.png  =  img1.png \n",
      "\n",
      " \\hat{\\bf A}({\\bf x},t)=\\int d^{3}k\\,\\hat{\\bf A}({\\bf k},t)\\,e^{i{\\bf k}\\cdot{\\bf x}}\\,.\n",
      "\n",
      " Screenshot 2024-01-29 at 14.56.57.png  =  img2.png \n",
      "\n",
      " \\frac{\\partial\\hat{\\pi}_{j}({\\bf x},t)}{\\partial t}=\\frac{1}{\\mu_{0}}\\,\\Delta\\hat{A}_{j}({\\bf x},t)\\,.\n",
      "\n",
      " Screenshot 2024-01-29 at 14.46.33.png  =  img3.png \n",
      "\n",
      " i\\hbar\\,\\frac{\\partial\\hat{\\pi}_{j}({\\bf x},t)}{\\partial t}=\\frac{i\\hbar}{\\mu_{0}}\\int d^{3}x^{\\prime}\\,\\delta_{j l}^{T}({\\bf x}-{\\bf x}^{\\prime})\\,\\Delta^{\\prime}\\hat{A}_{l}({\\bf x}^{\\prime},t)\\,,\n",
      "\n",
      " Screenshot 2024-01-29 at 14.46.28.png  =  img4.png \n",
      "\n",
      " i\\hbar\\,\\frac{\\partial\\hat{\\pi}_{j}({\\bf x},t)}{\\partial t}=\\frac{i\\hbar}{\\mu_{0}}\\,\\left\\{\\partial_{k}\\partial_{k}\\hat{A}_{j}({\\bf x},t)-\\frac{1}{4\\pi}\\,\\int d^{3}x^{\\prime}\\,\\left(\\partial_{j}^{\\prime}\\,\\frac{1}{|{\\bf x}-{\\bf x}^{\\prime}|}\\right)\\,\\Delta^{\\prime}\\partial_{l}^{\\prime}\\hat{A}_{l}({\\bf x}^{\\prime},t)\\right\\}\\,.\n"
     ]
    }
   ],
   "source": [
    "# If screenshots and this jupyter notebook file are in the same folder then folder path should be kept './'\n",
    "# Replace 'path/to/your/folder' with the actual path to your folder containing PNG files\n",
    "folder_path = './'\n",
    "rename_png_files(folder_path)"
   ]
  },
  {
   "cell_type": "code",
   "execution_count": null,
   "id": "3c99a64f",
   "metadata": {},
   "outputs": [],
   "source": []
  },
  {
   "cell_type": "code",
   "execution_count": null,
   "id": "7279bd3f",
   "metadata": {},
   "outputs": [],
   "source": []
  },
  {
   "cell_type": "code",
   "execution_count": null,
   "id": "621edc56",
   "metadata": {},
   "outputs": [],
   "source": []
  },
  {
   "cell_type": "code",
   "execution_count": null,
   "id": "5b2c38bc",
   "metadata": {},
   "outputs": [],
   "source": []
  }
 ],
 "metadata": {
  "kernelspec": {
   "display_name": "Python 3 (ipykernel)",
   "language": "python",
   "name": "python3"
  },
  "language_info": {
   "codemirror_mode": {
    "name": "ipython",
    "version": 3
   },
   "file_extension": ".py",
   "mimetype": "text/x-python",
   "name": "python",
   "nbconvert_exporter": "python",
   "pygments_lexer": "ipython3",
   "version": "3.11.4"
  }
 },
 "nbformat": 4,
 "nbformat_minor": 5
}
