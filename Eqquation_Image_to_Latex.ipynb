{
 "cells": [
  {
   "cell_type": "markdown",
   "id": "91a6e3cb",
   "metadata": {},
   "source": [
    "# First Time User\n",
    "Install the pytorch and pix2tex by running the following two commands first. \n",
    "- ``` pip install torch torchvision ```\n",
    "- ``` pip install \"pix2tex[gui]\" ```"
   ]
  },
  {
   "cell_type": "markdown",
   "id": "619c496d",
   "metadata": {},
   "source": [
    "#### Write the path to the image file in single quotes in below line of code and run all blocks."
   ]
  },
  {
   "cell_type": "code",
   "execution_count": 5,
   "id": "a35e66f7",
   "metadata": {},
   "outputs": [],
   "source": [
    "Path = 'Path/Name.png'"
   ]
  },
  {
   "cell_type": "code",
   "execution_count": 6,
   "id": "ea96cf24",
   "metadata": {},
   "outputs": [],
   "source": [
    "# importing required packages\n",
    "from PIL import Image\n",
    "from pix2tex.cli import LatexOCR"
   ]
  },
  {
   "cell_type": "code",
   "execution_count": 7,
   "id": "04661dd0",
   "metadata": {},
   "outputs": [
    {
     "name": "stdout",
     "output_type": "stream",
     "text": [
      "{\\frac{\\partial{\\mathcal{L}}}{\\partial A_{k}(\\mathbf{x},t)}}=0\\,,\\qquad{\\frac{\\partial{\\mathcal{L}}}{\\partial\\partial_{j}A_{k}(\\mathbf{x},t)}}=-{\\frac{1}{\\mu_{0}}}\\partial_{j}A_{k}(\\mathbf{x},t)\\,,\\qquad{\\frac{\\partial{\\mathcal{L}}}{\\partial{\\frac{\\partial A_{k}(\\mathbf{x},t)}{\\partial t}}}}=\\varepsilon_{0}\\,{\\frac{\\partial A_{k}(\\mathbf{x},t)}{\\partial t}}\\,,\n"
     ]
    }
   ],
   "source": [
    "img = Image.open(Path)\n",
    "model = LatexOCR()\n",
    "print(model(img))"
   ]
  },
  {
   "cell_type": "code",
   "execution_count": null,
   "id": "44e484b9",
   "metadata": {},
   "outputs": [],
   "source": []
  }
 ],
 "metadata": {
  "kernelspec": {
   "display_name": "Python 3 (ipykernel)",
   "language": "python",
   "name": "python3"
  },
  "language_info": {
   "codemirror_mode": {
    "name": "ipython",
    "version": 3
   },
   "file_extension": ".py",
   "mimetype": "text/x-python",
   "name": "python",
   "nbconvert_exporter": "python",
   "pygments_lexer": "ipython3",
   "version": "3.11.4"
  }
 },
 "nbformat": 4,
 "nbformat_minor": 5
}
