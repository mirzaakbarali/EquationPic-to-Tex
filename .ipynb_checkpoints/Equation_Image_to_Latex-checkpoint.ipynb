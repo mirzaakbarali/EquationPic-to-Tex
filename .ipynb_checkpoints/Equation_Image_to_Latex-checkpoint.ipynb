{
 "cells": [
  {
   "cell_type": "markdown",
   "id": "f96891ae",
   "metadata": {},
   "source": [
    "# First Time User\n",
    "Install the pytorch and pix2tex by running the following two commands first. \n",
    "- ``` pip install torch torchvision ```\n",
    "- ``` pip install \"pix2tex[gui]\" ```"
   ]
  },
  {
   "cell_type": "markdown",
   "id": "b3fe473c",
   "metadata": {},
   "source": [
    "Put all the equation pictures in the same folder as this python file. Name them successively img1.png , img2.ong and son on. Change the ```num_of_names``` by the number of pictures you have. Run all the cells below."
   ]
  },
  {
   "cell_type": "markdown",
   "id": "252cdb1b",
   "metadata": {},
   "source": [
    "#### Importing packages"
   ]
  },
  {
   "cell_type": "code",
   "execution_count": 1,
   "id": "4ba40b57",
   "metadata": {},
   "outputs": [],
   "source": [
    "from PIL import Image\n",
    "from pix2tex.cli import LatexOCR\n",
    "import os"
   ]
  },
  {
   "cell_type": "code",
   "execution_count": null,
   "id": "669f7081",
   "metadata": {},
   "outputs": [],
   "source": [
    "\n",
    "def rename_png_files(folder_path):\n",
    "    # Get the list of files in the folder\n",
    "    files = os.listdir(folder_path)\n",
    "\n",
    "    # Filter out only the PNG files\n",
    "    png_files = [file for file in files if file.endswith('.png')]\n",
    "\n",
    "    # Rename the PNG files sequentially\n",
    "    for index, png_file in enumerate(png_files, start=1):\n",
    "        old_path = os.path.join(folder_path, png_file)\n",
    "        new_name = f'img{index}.png'\n",
    "        new_path = os.path.join(folder_path, new_name)\n",
    "\n",
    "        # Rename the file\n",
    "        os.rename(old_path, new_path)\n",
    "        print(f'Renamed: {png_file} -> {new_name}')\n",
    "\n",
    "# Replace 'path/to/your/folder' with the actual path to your folder containing PNG files\n",
    "folder_path = 'path/to/your/folder'\n",
    "rename_png_files(folder_path)\n"
   ]
  },
  {
   "cell_type": "code",
   "execution_count": null,
   "id": "3e45daed",
   "metadata": {},
   "outputs": [],
   "source": [
    "num_of_names = 1  # Change this value to the number of pictures you\n",
    "name_list = []\n",
    "\n",
    "for i in range(1, num_of_names + 1):\n",
    "    name_list.append(f\"img{i}.png\")\n",
    "print(name_list)"
   ]
  },
  {
   "cell_type": "code",
   "execution_count": null,
   "id": "ac74289f",
   "metadata": {
    "scrolled": true
   },
   "outputs": [],
   "source": [
    "for i in range(0, num_of_names):\n",
    "    img = Image.open(name_list[i])\n",
    "    model = LatexOCR()\n",
    "    print(model(img),'\\n')"
   ]
  },
  {
   "cell_type": "code",
   "execution_count": null,
   "id": "3c99a64f",
   "metadata": {},
   "outputs": [],
   "source": []
  }
 ],
 "metadata": {
  "kernelspec": {
   "display_name": "Python 3 (ipykernel)",
   "language": "python",
   "name": "python3"
  },
  "language_info": {
   "codemirror_mode": {
    "name": "ipython",
    "version": 3
   },
   "file_extension": ".py",
   "mimetype": "text/x-python",
   "name": "python",
   "nbconvert_exporter": "python",
   "pygments_lexer": "ipython3",
   "version": "3.11.4"
  }
 },
 "nbformat": 4,
 "nbformat_minor": 5
}
